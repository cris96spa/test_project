{
 "cells": [
  {
   "cell_type": "code",
   "execution_count": 12,
   "metadata": {},
   "outputs": [
    {
     "name": "stderr",
     "output_type": "stream",
     "text": [
      "c:\\Users\\CristianSpagnuolo\\Documents\\MLcube\\test_project\\.venv\\Lib\\site-packages\\pydantic\\_internal\\_fields.py:132: UserWarning: Field \"model_id\" in ColumnInfo has conflict with protected namespace \"model_\".\n",
      "\n",
      "You may be able to resolve this warning by setting `model_config['protected_namespaces'] = ()`.\n",
      "  warnings.warn(\n"
     ]
    }
   ],
   "source": [
    "%load_ext autoreload\n",
    "%autoreload 2\n",
    "import sys\n",
    "sys.path.append('../')\n",
    "import numpy as np\n",
    "import matplotlib.pyplot as plt\n",
    "\n",
    "from tqdm.auto import tqdm\n",
    "import torch\n",
    "import torchvision.transforms.v2 as transforms\n",
    "from torchvision.datasets import ImageFolder\n",
    "from torch.utils.data import DataLoader\n",
    "from torchvision.utils import make_grid\n",
    "import polars as pl\n",
    "\n",
    "from scripts.image_generator import ImageDatasetGenerator\n",
    "from scripts.image_factory import *\n",
    "import warnings\n",
    "from torchvision import models\n",
    "import torch.nn as nn\n",
    "%matplotlib inline\n",
    "warnings.filterwarnings('ignore')\n",
    "# from alibi_detect.cd import MMDDrift\n",
    "# set tight layout\n",
    "plt.rcParams.update({'figure.autolayout': True})"
   ]
  },
  {
   "cell_type": "code",
   "execution_count": 13,
   "metadata": {},
   "outputs": [
    {
     "name": "stdout",
     "output_type": "stream",
     "text": [
      "Supported device: cpu.\n"
     ]
    }
   ],
   "source": [
    "seed = 42\n",
    "device = torch.device('cuda' if torch.cuda.is_available() else 'cpu')\n",
    "torch.set_default_device(device)\n",
    "print(f\"Supported device: {device}.\")\n",
    "g_seed = torch.Generator(device=device)\n",
    "g_seed.manual_seed(seed);"
   ]
  },
  {
   "cell_type": "code",
   "execution_count": 14,
   "metadata": {},
   "outputs": [],
   "source": [
    "mean=[0.485, 0.456, 0.406]\n",
    "std=[0.229, 0.224, 0.225]\n",
    "batch_size = 32"
   ]
  },
  {
   "cell_type": "code",
   "execution_count": 15,
   "metadata": {},
   "outputs": [],
   "source": [
    "tensor_transform = transforms.Compose([\n",
    "    transforms.Resize((224, 224)),\n",
    "    transforms.ToTensor(),\n",
    "    # transforms.Normalize(mean=mean, std=std)\n",
    "])"
   ]
  },
  {
   "cell_type": "code",
   "execution_count": 16,
   "metadata": {},
   "outputs": [],
   "source": [
    "img_path = \"../../data/places/\"\n",
    "dataset = ImageFolder(\n",
    "    root=img_path,\n",
    "    transform=tensor_transform\n",
    ")\n",
    "dataloader = DataLoader(dataset, batch_size=batch_size, shuffle=True, generator=g_seed if device.type == 'cuda' else None)"
   ]
  },
  {
   "cell_type": "code",
   "execution_count": 17,
   "metadata": {},
   "outputs": [],
   "source": [
    "image_generator = ImageDatasetGenerator(\n",
    "    seed=42,\n",
    "    input_path=img_path,\n",
    "    output_path=\"../../data/places_generated/\",\n",
    ")"
   ]
  },
  {
   "cell_type": "code",
   "execution_count": 31,
   "metadata": {},
   "outputs": [],
   "source": [
    "all_transform = [\n",
    "    TransformInfo(\n",
    "        transf_type=ImageTransform.ROTATE,\n",
    "        drift_level=0.9,\n",
    "    ),\n",
    "    TransformInfo(\n",
    "        transf_type=ImageTransform.BRIGHTNESS,\n",
    "        drift_level=0.3,\n",
    "    ),\n",
    "    TransformInfo(\n",
    "        transf_type=ImageTransform.CONTRAST,\n",
    "        drift_level=0.1,\n",
    "    ),\n",
    "    TransformInfo(\n",
    "        transf_type=ImageTransform.HUE,\n",
    "        drift_level=0.1,\n",
    "    ),\n",
    "    TransformInfo(\n",
    "        transf_type=ImageTransform.SATURATION,\n",
    "        drift_level=0.5,\n",
    "    ),\n",
    "    TransformInfo(\n",
    "        transf_type=ImageTransform.GAUSSIAN_BLUR,\n",
    "        drift_level=0.1,\n",
    "    ),\n",
    "    TransformInfo(\n",
    "        transf_type=ImageTransform.GAUSSIAN_NOISE,\n",
    "        drift_level=1.,\n",
    "    )\n",
    "]"
   ]
  },
  {
   "cell_type": "code",
   "execution_count": 32,
   "metadata": {},
   "outputs": [],
   "source": [
    "image_generator.add_abrupt_drift(\n",
    "    drift_target=DriftTarget.INPUT,\n",
    "    input_drift_type=InputDriftType.IMAGE_AUGMENTATION,\n",
    "    transform_list=all_transform,\n",
    ")"
   ]
  },
  {
   "cell_type": "code",
   "execution_count": 33,
   "metadata": {},
   "outputs": [
    {
     "data": {
      "text/plain": [
       "Compose(\n",
       "      RandomRotation(degrees=[-81.0, 81.0], interpolation=InterpolationMode.NEAREST, expand=False, fill=0)\n",
       "      ColorJitter(brightness=(0.0, 2.5))\n",
       "      ColorJitter(contrast=(0.5, 1.5))\n",
       "      ColorJitter(hue=(-0.05, 0.05))\n",
       "      ColorJitter(saturation=(0.0, 8.5))\n",
       "      GaussianBlur(kernel_size=(5, 5), sigma=[0.30000000000000004, 0.30000000000000004])\n",
       "      GaussianNoise(mean=0.1, sigma=0.5, clip=True)\n",
       ")"
      ]
     },
     "execution_count": 33,
     "metadata": {},
     "output_type": "execute_result"
    }
   ],
   "source": [
    "image_generator.transform_pipeline"
   ]
  },
  {
   "cell_type": "code",
   "execution_count": 34,
   "metadata": {},
   "outputs": [
    {
     "name": "stdout",
     "output_type": "stream",
     "text": [
      "Archive created successfully: ../../data/places_generated/sampled_images.zip\n",
      "Original folder '../../data/places_generated/sampled_images' deleted after zipping.\n"
     ]
    }
   ],
   "source": [
    "data_category = image_generator.sample(32)"
   ]
  },
  {
   "cell_type": "code",
   "execution_count": 35,
   "metadata": {},
   "outputs": [
    {
     "name": "stdout",
     "output_type": "stream",
     "text": [
      "shape: (32, 3)\n",
      "┌───────────┬───────────┬───────┐\n",
      "│ sample-id ┆ timestamp ┆ label │\n",
      "│ ---       ┆ ---       ┆ ---   │\n",
      "│ i64       ┆ f64       ┆ i64   │\n",
      "╞═══════════╪═══════════╪═══════╡\n",
      "│ 64        ┆ 1.7285e9  ┆ 1     │\n",
      "│ 65        ┆ 1.7285e9  ┆ 1     │\n",
      "│ 66        ┆ 1.7285e9  ┆ 1     │\n",
      "│ 67        ┆ 1.7285e9  ┆ 0     │\n",
      "│ 68        ┆ 1.7285e9  ┆ 1     │\n",
      "│ …         ┆ …         ┆ …     │\n",
      "│ 91        ┆ 1.7285e9  ┆ 1     │\n",
      "│ 92        ┆ 1.7285e9  ┆ 1     │\n",
      "│ 93        ┆ 1.7285e9  ┆ 0     │\n",
      "│ 94        ┆ 1.7285e9  ┆ 1     │\n",
      "│ 95        ┆ 1.7285e9  ┆ 0     │\n",
      "└───────────┴───────────┴───────┘\n"
     ]
    }
   ],
   "source": [
    "print(data_category.target)"
   ]
  },
  {
   "cell_type": "code",
   "execution_count": 36,
   "metadata": {},
   "outputs": [
    {
     "name": "stdout",
     "output_type": "stream",
     "text": [
      "shape: (32, 3)\n",
      "┌───────────┬───────────┬─────────────────────────────────┐\n",
      "│ sample-id ┆ timestamp ┆ file_name                       │\n",
      "│ ---       ┆ ---       ┆ ---                             │\n",
      "│ i64       ┆ f64       ┆ str                             │\n",
      "╞═══════════╪═══════════╪═════════════════════════════════╡\n",
      "│ 64        ┆ 1.7285e9  ┆ f7d4225e-6f85-4809-a03a-835852… │\n",
      "│ 65        ┆ 1.7285e9  ┆ 4f59436e-aa0a-4eb9-b705-e1da28… │\n",
      "│ 66        ┆ 1.7285e9  ┆ 67ce62c4-d3ff-4fb9-85d2-3bf5b3… │\n",
      "│ 67        ┆ 1.7285e9  ┆ 7f06874e-6399-4f13-b27f-d2c7f6… │\n",
      "│ 68        ┆ 1.7285e9  ┆ 766f12f9-dceb-4f63-85f3-49ad78… │\n",
      "│ …         ┆ …         ┆ …                               │\n",
      "│ 91        ┆ 1.7285e9  ┆ 18270172-2a62-4914-b249-40ab16… │\n",
      "│ 92        ┆ 1.7285e9  ┆ 151c12a2-1902-44aa-962d-e3f350… │\n",
      "│ 93        ┆ 1.7285e9  ┆ 6cfacf0d-c400-44fa-8b01-ca2389… │\n",
      "│ 94        ┆ 1.7285e9  ┆ 9c5ef26d-a4f8-4471-bd67-f3c40d… │\n",
      "│ 95        ┆ 1.7285e9  ┆ c9285567-7113-4357-935f-41c85e… │\n",
      "└───────────┴───────────┴─────────────────────────────────┘\n"
     ]
    }
   ],
   "source": [
    "print(data_category.input_mapping)"
   ]
  },
  {
   "cell_type": "code",
   "execution_count": 37,
   "metadata": {},
   "outputs": [
    {
     "name": "stdout",
     "output_type": "stream",
     "text": [
      "FolderType.ZIP\n",
      "../../data/places_generated/sampled_images\n",
      "png\n",
      "True\n",
      "False\n"
     ]
    }
   ],
   "source": [
    "\n",
    "print(data_category.input_folder_type)\n",
    "print(data_category.input_folder)\n",
    "print(data_category.input_file_type)\n",
    "print(data_category.is_input_folder)\n",
    "print(data_category.is_target_folder)\n"
   ]
  },
  {
   "cell_type": "code",
   "execution_count": 23,
   "metadata": {},
   "outputs": [
    {
     "name": "stdout",
     "output_type": "stream",
     "text": [
      "name='timestamp' role=<ColumnRole.TIME_ID: 'time_id'> is_nullable=False data_type=<DataType.FLOAT: 'float'> predicted_target=None possible_values=None model_id=None dims=None classes_names=None subrole=None image_mode=None\n",
      "name='sample-id' role=<ColumnRole.ID: 'id'> is_nullable=False data_type=<DataType.STRING: 'string'> predicted_target=None possible_values=None model_id=None dims=None classes_names=None subrole=None image_mode=None\n",
      "name='label' role=<ColumnRole.TARGET: 'target'> is_nullable=False data_type=<DataType.CATEGORICAL: 'categorical'> predicted_target=None possible_values=[0, 1] model_id=None dims=None classes_names=None subrole=None image_mode=None\n",
      "name='image' role=<ColumnRole.INPUT: 'input'> is_nullable=False data_type=<DataType.ARRAY_3: 'array_3'> predicted_target=None possible_values=None model_id=None dims=(224, 224, 3) classes_names=None subrole=None image_mode=<ImageMode.RGB: 'rgb'>\n"
     ]
    }
   ],
   "source": [
    "columns = image_generator.get_dataschema()\n",
    "for col in columns:\n",
    "    print(col)"
   ]
  },
  {
   "cell_type": "code",
   "execution_count": null,
   "metadata": {},
   "outputs": [],
   "source": []
  }
 ],
 "metadata": {
  "kernelspec": {
   "display_name": ".venv",
   "language": "python",
   "name": "python3"
  },
  "language_info": {
   "codemirror_mode": {
    "name": "ipython",
    "version": 3
   },
   "file_extension": ".py",
   "mimetype": "text/x-python",
   "name": "python",
   "nbconvert_exporter": "python",
   "pygments_lexer": "ipython3",
   "version": "3.12.6"
  }
 },
 "nbformat": 4,
 "nbformat_minor": 2
}
